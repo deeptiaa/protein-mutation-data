{
 "cells": [
  {
   "cell_type": "code",
   "execution_count": 3,
   "id": "2e6f7c52",
   "metadata": {},
   "outputs": [],
   "source": [
    "import os\n",
    "import numpy as np\n",
    "import pandas as pd\n",
    "\n",
    "all_data_path = os.path.join(\"DBdata\", \"all_data_clean.csv\")\n",
    "all_data_df_clean = pd.read_csv(all_data_path)"
   ]
  },
  {
   "cell_type": "code",
   "execution_count": 1,
   "id": "15ddb238",
   "metadata": {},
   "outputs": [],
   "source": [
    "# add enzyme column (version using UniProtID's)\n",
    "\n",
    "# load column from UniProt datbase w/ all enzyme ID's (35 mil entries)\n",
    "uniprot_35_path = os.path.join(\"DBdata\", \"uniprot-v3.tsv\")\n",
    "uniprot_35_ids = pd.read_csv(uniprot_35_path, usecols=[\"Entry\"], sep='\\t')\n",
    "\n",
    "all_data_enzyme_df = all_data_df_clean.copy()\n",
    "\n",
    "# comparing UniProt ID to find if protein is enzyme\n",
    "# if enzyme, adds TRUE // if not, adds FALSE // if there is no UniProt ID adds NaN\n",
    "enzyme = []\n",
    "i = 0\n",
    "for entry in all_data_enzyme_df.iloc[:,2]:\n",
    "    if entry in uniprot_35_ids[\"Entry\"].array:\n",
    "        enzyme.append(True)\n",
    "    else:\n",
    "        if pd.isna(entry):\n",
    "            enzyme.append(np.nan)\n",
    "        else:\n",
    "            enzyme.append(False)\n",
    "    i = i + 1\n",
    "    print(i)\n",
    "    \n",
    "all_data_enzyme_df[\"ENZYME\"] = enzyme\n",
    "\n",
    "all_data_enzyme_df.to_csv(\"DBdata/all_data_clean_enzyme.csv\", header=True, index=False, index_label=False)"
   ]
  }
 ],
 "metadata": {
  "kernelspec": {
   "display_name": "Python 3",
   "language": "python",
   "name": "python3"
  },
  "language_info": {
   "codemirror_mode": {
    "name": "ipython",
    "version": 3
   },
   "file_extension": ".py",
   "mimetype": "text/x-python",
   "name": "python",
   "nbconvert_exporter": "python",
   "pygments_lexer": "ipython3",
   "version": "3.8.10"
  }
 },
 "nbformat": 4,
 "nbformat_minor": 5
}
